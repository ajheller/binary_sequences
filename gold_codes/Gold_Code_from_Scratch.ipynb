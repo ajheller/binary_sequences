{
 "cells": [
  {
   "cell_type": "markdown",
   "metadata": {},
   "source": [
    "# Gold Code from Scratch\n",
    "### Aaron J. Heller, SRI International, Menlo Park, CA\n",
    "#### 20 November 2020 (last revision 30 January 2021)\n",
    "----------"
   ]
  },
  {
   "cell_type": "markdown",
   "metadata": {},
   "source": [
    "### Introduction\n",
    "A Gold code, also known as Gold sequence, is a type of pseudo-random binary sequence, used in telecommunication (CDMA) and satellite navigation (GPS). A set of Gold code sequences consists of $2^n + 1$ sequences each one with a period of $2^n - 1$. They have three properties that are useful when multiple devices are broadcasting in the same frequency range. \n",
    "\n",
    "1. a set contains many sequences\n",
    "1. each sequence has close to ideal (\"thumbtack\") autocorrelation\n",
    "1. within a set, all pairs of sequences have bounded small, three-valued, cross-correlations"
   ]
  },
  {
   "cell_type": "markdown",
   "metadata": {},
   "source": [
    "A set of Gold Code sequences are produced by XOR'ing two maximum-length sequences (MLSs, a.k.a. m-sequences) with various relative phases (initial contents of the shift register) between the two sequences. We observe that the cross-correlation between some pairs is lower than others. These are called as _preferred pairs_.  Tables of preferred pairs can be found in the GPS and CDMA standards, but we want to generate sequences that are longer than the ones used by those systems.  We also want to understand how to do this ourselves from scratch. "
   ]
  },
  {
   "cell_type": "markdown",
   "metadata": {},
   "source": [
    "### The Three-valued Cross-Correlation Theorem\n",
    "Gold [[1967]](https://doi.org/10.1109/TIT.1967.1054048) proves what some authors call the \"three-valued cross-correlation theorem\" that allows us to generate preferred pairs of m-sequences that have 3-valued cyclic cross-correlations.\n",
    "\n",
    "$$\n",
    "\\begin{align*}\n",
    "R_{XY} &= \\\n",
    "\\begin{cases}\n",
    "-1 &       2^{n-1} - 1 \\text{ times} \\\\\n",
    "-t(n) & 2^{n-2} - 2^{j-2} \\text{ times} \\\\\n",
    "t(n)-2 & 2^{n-2} + 2^{j-2} \\text{ times}\n",
    "\\end{cases} \n",
    "\\\\\n",
    "\\\\\n",
    "t(n) &=2^j + 1 \\\\\n",
    "\\\\ %\n",
    "j &= %\n",
    "\\begin{cases}\n",
    "    (n+1)/2, & \\text{for } n \\text{ odd }\\\\\n",
    "    (n+2)/2, & \\text{for } n \\text{ even and } n \\not\\equiv 0 \\mod 4\\\\\n",
    "\\end{cases}\n",
    "\\end{align*}\n",
    "$$\n",
    "\n",
    "where $n$ is the order of the generator polynomial. This holds for two m-sequences exactly, and approximately for Gold sequences.\n",
    "\n",
    "To do this, we start with an initial m-sequence, $S(x)$, of the desired periodicity, $2^n-1$, and decimate it by $q$, $S'(x) = S(x)[q].$  If the degree of $S$'s generator polynomial, $n$, and the decimation factor, $q$, have the properties listed below, the two sequences, $S$ and $S'$, will be a preferred pair. If needed, the generator polynomial for the decimated sequence can be found using the Berlekamp-Massey [[1969]](https://doi.org/10.1109/TIT.1969.1054260) or the Reeds-Sloane [[1985]](https://doi.org/10.1137/0214038) algorithms."
   ]
  },
  {
   "cell_type": "markdown",
   "metadata": {},
   "source": [
    "### Required properties of $n$ and $q$ for preferred pairs\n",
    "\n",
    "1. $$n \\not\\equiv 0 \\mod 4 \\tag{3}$$\n",
    "2. $$q \\text{ is odd and of the form } q=2^k + 1 \\text{ or } q=2^{2k}-2k+1 \\text{ for some } k\\tag{4}$$\n",
    "3. $$ \n",
    "\\gcd(n, k) = \\ %\n",
    "\\begin{cases}\n",
    "      1, & \\text{for odd}\\ n \\\\ %\n",
    "      2, & \\text{for even}\\ n %\n",
    "\\end{cases}\n",
    "\\tag{5}\n",
    "$$"
   ]
  },
  {
   "cell_type": "markdown",
   "metadata": {},
   "source": [
    "### Kasami Sequences\n",
    "\n",
    "[Kasami Sequences](https://en.wikipedia.org/wiki/Kasami_code) are binary sequences of length $2^n-1$ with $n$ even.  They have cross-correlation bounds approaching the Welch limit [[1974]](https://doi.org/10.1109/TIT.1974.1055219).  The Welch limit establishes the theoretical lower bounds on cross-correlation of a set of sequences. \n",
    "\n",
    "#### The small set\n",
    "The small Kasami set produced using a preferred pair, $S$ and $S'$, where $S'(x)=S(x)[q]$, where $q= 2^{j/2} + 1$ with $j$ even. \n",
    "\n",
    "#### The large set \n",
    "FIXME: For Kasami codes, we XOR three m-sequences, two that comprise a preferred pair and a third, which is a decimation of one of the sequences in the preferred pair, where $q = 2^{j/2} + 1$ with $j$ even."
   ]
  },
  {
   "cell_type": "markdown",
   "metadata": {},
   "source": [
    "### Roughly...\n",
    "\n",
    "Paraphrasing Rothaus[[1993]](https://doi.org/10.1109/18.212299), Gold constructs, roughly:\n",
    "* $2^n$ codes of length $2^n$ with all cross-correlations less than $2^{n/2}$. \n",
    "* for $n$ odd, $2^{2n}$ codes of length $2^n$ with all cross-correlations less than $2\\cdot 2^{n/2}$ \n",
    "* $2^{3n}$ codes of length $2^n$ with cross-correlations less than $4 \\cdot 2^{n/2}$, \n",
    "* $2^{4n}$ codes with cross-correlations less than $8 \\cdot 2^{n2}$, etc. \n",
    "\n",
    "Kasami constructs (large codes) for $n$ even, roughly:\n",
    "* $2^{3n/2}$ codes of length $2^n$ with cross-correlations less than $2^{n/2}$\n",
    "* $2^{5n/2}$ codes of length $2^n$ with cross-correlations less than $2\\cdot 2^{n/2}$ \n",
    "* $2^{7n/2}$ codes with cross-correlations less than $4\\cdot 2^{n/2}$\n",
    "* etc."
   ]
  },
  {
   "cell_type": "code",
   "execution_count": 3,
   "metadata": {},
   "outputs": [],
   "source": [
    "from itertools import count, chain, islice\n",
    "from math import gcd\n",
    "\n",
    "\n",
    "def t(n):\n",
    "    \"\"\"Return upper bound on absolute cross-correlation of two different members of a Gold Code set.\"\"\"\n",
    "    if n % 2 != 0:\n",
    "        return 2**((n+1)/2) + 1\n",
    "    elif n % 4 != 0:\n",
    "        return 2**((n+2)/2) + 1\n",
    "    else:\n",
    "        return None\n",
    "    \n",
    "def theta(n):\n",
    "    \"\"\"Return the three-values of absolute cross-correlation of two different members of a Gold Code set.\"\"\"\n",
    "    t_n = t(n)\n",
    "    return -t_n, -1, t_n-2\n",
    "\n",
    "def Rxy(n):\n",
    "    if n % 4 == 0:\n",
    "        raise ValueError(f\"{n} == 0 mod 4\")\n",
    "    if n % 2 == 1:\n",
    "        j = (n + 1) / 2  # n is odd\n",
    "    else:\n",
    "        j = (n + 2) / 2  # n is even\n",
    "    return {-1: 2**(n-1)-1,\n",
    "            -1 - 2**j: 2**(n-2) - 2**(j-2),\n",
    "            -1 + 2**j: 2**(n-2) + 2**(j-2)}\n",
    "    \n",
    "\n",
    "def q_generator(n, q_fn=1):\n",
    "    \"\"\"Generate good values of q, the decimation factor, for a given n.\n",
    "    \"\"\"\n",
    "    \n",
    "    # allow short hand for q(k)\n",
    "    if q_fn == 1:\n",
    "        q_fn = lambda k: 2**k + 1\n",
    "    elif q_fn == 2:\n",
    "        q_fn = lambda k: 2**(2*k) - 2*k + 1\n",
    " \n",
    "    # try out q_fn to see if it is really a function\n",
    "    q_fn(1)\n",
    "    \n",
    "    # property 1\n",
    "    if n % 4 == 0:\n",
    "        raise ValueError(\"n mod 4 is 0!\")\n",
    "     \n",
    "    # length of m-sequence\n",
    "    N = 2**n - 1\n",
    "\n",
    "    # good GCD for property 3\n",
    "    good_gcd = 1 if n%2 == 1 else 2\n",
    "\n",
    "    qs = set()\n",
    "    for k in count():\n",
    "        # checking property 3\n",
    "        if gcd(n, k) != good_gcd:\n",
    "            continue\n",
    "\n",
    "        # property 2\n",
    "        q = q_fn(k)\n",
    "\n",
    "        # the decimation is cyclic, so if we've cycled around, we're done\n",
    "        q_mod_N = q % N\n",
    "        if q_mod_N % 2 == 1:  # property 3, q is odd\n",
    "            if q_mod_N in qs:\n",
    "                break\n",
    "            else:\n",
    "                yield q_mod_N\n",
    "                qs.add(q_mod_N)\n",
    "                \n",
    "def generate_good_qs(n):\n",
    "    return chain(q_generator(n, 1), q_generator(n, 2))\n",
    "\n",
    "# utility function to get nth item from a non-indexable, such the generator returned by generate_good_qs\n",
    "def nth(iterable, n, default=None):\n",
    "        \"Returns the nth item or a default value\"\n",
    "        return next(islice(iterable, n, None), default)"
   ]
  },
  {
   "cell_type": "code",
   "execution_count": 8,
   "metadata": {},
   "outputs": [
    {
     "data": {
      "text/plain": [
       "({-1: 4095, -129.0: 2016.0, 127.0: 2080.0}, 1)"
      ]
     },
     "execution_count": 8,
     "metadata": {},
     "output_type": "execute_result"
    }
   ],
   "source": [
    "Rxy(13), (2016*(-129) + 2080*127 - 4095)"
   ]
  },
  {
   "cell_type": "code",
   "execution_count": 6,
   "metadata": {},
   "outputs": [
    {
     "data": {
      "text/plain": [
       "[3,\n",
       " 3,\n",
       " 5,\n",
       " 5,\n",
       " 7,\n",
       " 9,\n",
       " 13,\n",
       " 15,\n",
       " 17,\n",
       " 31,\n",
       " 33,\n",
       " 33,\n",
       " 41,\n",
       " 57,\n",
       " 59,\n",
       " 65,\n",
       " 67,\n",
       " 83,\n",
       " 93,\n",
       " 109,\n",
       " 119,\n",
       " 129,\n",
       " 145,\n",
       " 171,\n",
       " 197,\n",
       " 223,\n",
       " 249,\n",
       " 257,\n",
       " 283,\n",
       " 309,\n",
       " 335,\n",
       " 361,\n",
       " 387,\n",
       " 413,\n",
       " 439,\n",
       " 465,\n",
       " 491,\n",
       " 513,\n",
       " 807,\n",
       " 833,\n",
       " 859,\n",
       " 885,\n",
       " 911,\n",
       " 937,\n",
       " 963,\n",
       " 989,\n",
       " 1015,\n",
       " 1025,\n",
       " 1817,\n",
       " 1843,\n",
       " 1869,\n",
       " 1895,\n",
       " 1921,\n",
       " 1947,\n",
       " 1973,\n",
       " 1999,\n",
       " 2025,\n",
       " 2049,\n",
       " 3877,\n",
       " 3903,\n",
       " 3929,\n",
       " 3955,\n",
       " 3981,\n",
       " 4007,\n",
       " 4033,\n",
       " 4059,\n",
       " 4085,\n",
       " 4097]"
      ]
     },
     "execution_count": 6,
     "metadata": {},
     "output_type": "execute_result"
    }
   ],
   "source": [
    "sorted(generate_good_qs(13))"
   ]
  },
  {
   "cell_type": "markdown",
   "metadata": {},
   "source": [
    "## M-Sequences\n",
    "A maximum length sequence (MLS) is a type of pseudorandom binary sequence. They are binary sequences generated by a linear-feedback shift register, with particular feedback taps. They are periodic and maximum-length in the sense that the shift register cycles though every possible state, except the all zero state, before repeating. The criteria for being maxmimum-length is that the feedback taps correspond to the non-zero terms of a primative polynomial over GF(2).\n",
    "\n",
    "[Wikipedia MLS](https://en.wikipedia.org/wiki/Maximum_length_sequence)"
   ]
  },
  {
   "cell_type": "markdown",
   "metadata": {},
   "source": [
    "### Cyclic Decimation of M-Sequences\n",
    "\n",
    "A property of m-sequences is that cyclic decimation by any non-zero factor results in another m-sequence.  The length of the resulting sequence will be ${N}/{\\gcd(N, q)}$, where $N$ is the length of the original sequence ($=2^n - 1$) and $q$ is the decimation factor.  A corollary is that if $\\gcd(N, q) = 1$ the resulting sequences is the same length as the original.\n",
    "\n",
    "The generator polynomial for the second sequence in the preferred pair can be obtained using the Berlekamp-Massey algorithm. [discussion here](https://stackoverflow.com/questions/718190/how-can-you-find-the-polynomial-for-a-decimated-lfsr)\n",
    "\n",
    "Remaining questions:\n",
    "* Is there a way to get the generator polynomial for the second sequence directly from the first polynomial and decimation factor?\n",
    "* [yes, maybe](https://web.archive.org/web/20170830000819/https://paginas.fe.up.pt/~hmiranda/cm/Pseudo_Noise_Sequences.pdf)\n",
    "\"The decimation by $n>0$ of a m-sequence $c$, denoted as $c[n]$, has a period equal to $N/\\gcd(N,n)$, if it is not the all-zero sequence, its generator polynomial $g'(x)$ has roots that are $n^{th}$ powers of the roots of $g(x)$\" \n",
    "* this makes sense to me by analogy with $e^{i n \\theta}$ advancing around the circle n times faster\n",
    "* if not, we can take the decimated sequence and use Berlekamp-Massey to get the taps. "
   ]
  },
  {
   "cell_type": "markdown",
   "metadata": {},
   "source": [
    "### Charateristic Phase of M-Sequences\n",
    "\n",
    "Phase referes to the starting index of the M-sequence, which is determined by the initial contents of the shift register.  The *characteristic phase* is the phase for which a cyclic decimation by 2 results in the same sequence. "
   ]
  },
  {
   "cell_type": "code",
   "execution_count": 31,
   "metadata": {},
   "outputs": [],
   "source": [
    "import numpy as np\n",
    "from scipy import signal as sig\n",
    "\n",
    "def decimate_sequence(s, q):\n",
    "    \"\"\"Return cyclic decimation of the sequence s by the factor q.\"\"\"\n",
    "    N = len(s)\n",
    "    i = np.mod(np.arange(N) * q, N)\n",
    "    s_ = s[i]\n",
    "    return s_\n",
    "\n",
    "\n",
    "def characteristic_phase(s):\n",
    "    \"\"\"Find the characteristic phase of an M-sequence.\"\"\"\n",
    "    for i in range(len(s)):\n",
    "        s0 = np.roll(s, i)\n",
    "        s1 = decimate_sequence(s0, 2)\n",
    "        if np.all(s0 == s1):\n",
    "            #print(i)\n",
    "            break\n",
    "    else:\n",
    "        print(\"no cp found!\")\n",
    "    return i\n",
    "\n",
    "def test_characteristic_phase(n):\n",
    "    s = sig.max_len_seq(n)[0]\n",
    "\n",
    "    cp = characteristic_phase(s)\n",
    "    return len(s), cp\n",
    "    "
   ]
  },
  {
   "cell_type": "code",
   "execution_count": 39,
   "metadata": {},
   "outputs": [
    {
     "name": "stdout",
     "output_type": "stream",
     "text": [
      "3 1\n",
      "7 0\n",
      "15 1\n",
      "31 18\n",
      "63 1\n",
      "127 0\n",
      "255 247\n",
      "511 130\n",
      "1023 70\n",
      "2047 1029\n",
      "4095 2277\n",
      "8191 822\n",
      "16383 12856\n",
      "32767 0\n",
      "65535 17697\n",
      "131071 9283\n"
     ]
    }
   ],
   "source": [
    "for n in range(2, 18):\n",
    "    nn, cp = test_characteristic_phase(n)\n",
    "    print(nn, cp)"
   ]
  },
  {
   "cell_type": "markdown",
   "metadata": {},
   "source": [
    "### Gold Codes\n",
    "\n",
    "To generate a Gold Code set, we need a preferred pair of m-sequences:\n",
    "1. Generate an m-sequence, $S_1$\n",
    "2. Select a \"good\" value for $q$\n",
    "3. Decimate $S_1$ by $q$ to produce a second sequence, $S_2$.  $S_1$ and $S_2$ comprise a preferred pair.\n",
    "4. XOR $S_1$ and various phases of $S_2$\n",
    "5. Augment the set with $S_1$ and $S_2$, if needed\n",
    "\n",
    "Additionally, we may want to check that resulting sequence is balanced. \n",
    "\n",
    "TODO: \n",
    "* There is a way to pick phases that result in balanced sequences, but since roughly 40 percent are balanced, generate-and-test is good enough for now.\n",
    "* The above involves the idea of the _characteristic phase_ of a M-sequence [[Kirkman and Rice, 1992]](https://doi.org/10.1109/ICASSP.1992.226298)."
   ]
  },
  {
   "cell_type": "code",
   "execution_count": 2,
   "metadata": {},
   "outputs": [],
   "source": [
    "import numpy as np\n",
    "from scipy import signal as sig\n",
    "\n",
    "def gold_code_set(n, set_size, q=None, \n",
    "                  bipolar=True, \n",
    "                  include_pair=True, \n",
    "                  initial_phase=None):\n",
    "    \"\"\"Generate a Gold Code set.\"\"\"\n",
    "    if q is None:\n",
    "        q = next(generate_good_qs(n))\n",
    "    \n",
    "    # the default sequence for length n\n",
    "    s1 = sig.max_len_seq(n)[0]\n",
    "    # the second sequence, forming a preferred pair with s1\n",
    "    s2 = decimate_sequence(s1, q)\n",
    "    \n",
    "    gc_set = np.row_stack((s1, s2, \n",
    "                          [np.logical_xor(s1, np.roll(s2, p))\n",
    "                            for p in range((n+1), (n+1)+set_size-2)]\n",
    "                          ))\n",
    "    if bipolar:\n",
    "        gc_set = gc_set * 2 - 1\n",
    "        \n",
    "    return gc_set\n",
    "\n",
    "def to_bipolar(s):\n",
    "    return s * 2 - 1\n",
    "\n",
    "def is_sequence_balanced(s, tolerance=1):\n",
    "    vals, counts = np.unique(s, return_counts=True)\n",
    "    bal = abs(counts[1] - counts[0]) <= tolerance\n",
    "    return bal"
   ]
  },
  {
   "cell_type": "code",
   "execution_count": null,
   "metadata": {},
   "outputs": [],
   "source": []
  },
  {
   "cell_type": "markdown",
   "metadata": {},
   "source": [
    "### Test case with $n = 15$"
   ]
  },
  {
   "cell_type": "code",
   "execution_count": 27,
   "metadata": {
    "tags": []
   },
   "outputs": [
    {
     "name": "stdout",
     "output_type": "stream",
     "text": [
      "(128, 32767) int8\n",
      "0.4296875\n"
     ]
    }
   ],
   "source": [
    "n = 15\n",
    "set_size = 128\n",
    "\n",
    "gc_set = gold_code_set(n, set_size, bipolar=True)\n",
    "print(gc_set.shape, gc_set.dtype)\n",
    "\n",
    "# how many of these are balanced?\n",
    "bal = [is_sequence_balanced(s) for s in gc_set]\n",
    "print(np.mean(bal))"
   ]
  },
  {
   "cell_type": "code",
   "execution_count": 4,
   "metadata": {
    "tags": []
   },
   "outputs": [],
   "source": [
    "# save the set, transpose to a given member is in a column.\n",
    "np.savetxt(f\"gc_set_n{n}.csv\", gc_set.transpose()>0, fmt=\"%d\", delimiter=\",\")"
   ]
  },
  {
   "cell_type": "markdown",
   "metadata": {},
   "source": [
    "### Cyclic cross corrlelation"
   ]
  },
  {
   "cell_type": "code",
   "execution_count": 5,
   "metadata": {},
   "outputs": [],
   "source": [
    "from numpy.fft import fft, ifft, ihfft\n",
    "from scipy.fft import fft as sfft\n",
    "\n",
    "def cyclic_xcorr(x, y):\n",
    "    \"\"\"Periodic correlation, implemented using the FFT.\n",
    "\n",
    "    x and y must be real sequences with the same length.\n",
    "    \"\"\"\n",
    "    return ifft(fft(x) * fft(y).conj()).real\n",
    "\n",
    "def cyclic_xcorr_all(x_set, axis=1):\n",
    "    X = sfft(x_set, axis=axis, workers=cpu_count())  # assume x is a 2-D array with the signals in the rows\n",
    "\n",
    "    xcorr = np.empty((X.shape[0], X.shape[0], X.shape[1]))\n",
    "    for i, x in enumerate(X):\n",
    "        for j, y in enumerate(X):\n",
    "            xcorr[i, j] = ifft(x * y.conj()).real\n",
    "    return xcorr\n",
    "\n",
    "# using map\n",
    "import itertools\n",
    "def cyclic_xcorr_all_map(x_set):\n",
    "    X = sfft(x_set, workers=cpu_count())\n",
    "    xc = map(lambda x, y: ifft(x * y.conj()).real,\n",
    "             *zip(*itertools.product(X, repeat=2)))\n",
    "    return xc\n",
    "\n",
    "# parallel using joblib\n",
    "from joblib import Parallel, delayed, cpu_count\n",
    "\n",
    "def cyclic_xcorr_all_parallel(gc_set, n_jobs=None):\n",
    "    if n_jobs is None:\n",
    "        n_jobs = cpu_count()//2  # hyperthreading doesn't help with this\n",
    "        \n",
    "    X = sfft(gc_set, workers=n_jobs)\n",
    "    xc = (Parallel(n_jobs=n_jobs, verbose=1,  prefer=\"threads\")\n",
    "          (delayed(lambda x: ifft(x).real)((x * y.conj())) \n",
    "           for x in X for y in X))\n",
    "    return xc"
   ]
  },
  {
   "cell_type": "code",
   "execution_count": 6,
   "metadata": {
    "tags": []
   },
   "outputs": [
    {
     "name": "stdout",
     "output_type": "stream",
     "text": [
      "loop: 33.86768889427185\n",
      "(128, 128, 32767)\n"
     ]
    }
   ],
   "source": [
    "# compute cross-correlation for all pairs\n",
    "from Timer import Timer\n",
    "with Timer(\"loop\"):\n",
    "    xcorr_all = cyclic_xcorr_all(gc_set).round(8)\n",
    "\n",
    "print(xcorr_all.shape)\n",
    "\n",
    "# what is the maximum for each\n",
    "max_xcorr_all = np.max(np.abs(xcorr_all), axis=2)"
   ]
  },
  {
   "cell_type": "code",
   "execution_count": 7,
   "metadata": {
    "tags": []
   },
   "outputs": [
    {
     "name": "stdout",
     "output_type": "stream",
     "text": [
      "map: 31.407520055770874\n"
     ]
    }
   ],
   "source": [
    "from Timer import Timer\n",
    "with Timer(\"map\") as tt:\n",
    "    list(cyclic_xcorr_all_map(gc_set))"
   ]
  },
  {
   "cell_type": "code",
   "execution_count": 8,
   "metadata": {
    "tags": []
   },
   "outputs": [
    {
     "name": "stderr",
     "output_type": "stream",
     "text": [
      "[Parallel(n_jobs=12)]: Using backend ThreadingBackend with 12 concurrent workers.\n",
      "[Parallel(n_jobs=12)]: Done  26 tasks      | elapsed:    0.1s\n",
      "[Parallel(n_jobs=12)]: Done 176 tasks      | elapsed:    0.2s\n",
      "[Parallel(n_jobs=12)]: Done 426 tasks      | elapsed:    0.3s\n",
      "[Parallel(n_jobs=12)]: Done 776 tasks      | elapsed:    0.5s\n",
      "[Parallel(n_jobs=12)]: Done 1226 tasks      | elapsed:    0.8s\n",
      "[Parallel(n_jobs=12)]: Done 1776 tasks      | elapsed:    1.1s\n",
      "[Parallel(n_jobs=12)]: Done 2426 tasks      | elapsed:    1.4s\n",
      "[Parallel(n_jobs=12)]: Done 3176 tasks      | elapsed:    1.8s\n",
      "[Parallel(n_jobs=12)]: Done 4026 tasks      | elapsed:    2.3s\n",
      "[Parallel(n_jobs=12)]: Done 4976 tasks      | elapsed:    2.8s\n",
      "[Parallel(n_jobs=12)]: Done 6026 tasks      | elapsed:    3.3s\n",
      "[Parallel(n_jobs=12)]: Done 7176 tasks      | elapsed:    3.9s\n",
      "[Parallel(n_jobs=12)]: Done 8426 tasks      | elapsed:    4.6s\n",
      "[Parallel(n_jobs=12)]: Done 9776 tasks      | elapsed:    5.3s\n",
      "[Parallel(n_jobs=12)]: Done 11226 tasks      | elapsed:    6.1s\n",
      "[Parallel(n_jobs=12)]: Done 12776 tasks      | elapsed:    7.0s\n",
      "[Parallel(n_jobs=12)]: Done 14426 tasks      | elapsed:    7.9s\n",
      "[Parallel(n_jobs=12)]: Done 16176 tasks      | elapsed:    8.8s\n",
      "[Parallel(n_jobs=12)]: Done 16384 out of 16384 | elapsed:    8.9s finished\n"
     ]
    },
    {
     "name": "stdout",
     "output_type": "stream",
     "text": [
      "parallel njobs=12: 12.632782697677612\n"
     ]
    },
    {
     "data": {
      "text/plain": [
       "(128, 128, 32767)"
      ]
     },
     "execution_count": 8,
     "metadata": {},
     "output_type": "execute_result"
    }
   ],
   "source": [
    "from Timer import Timer\n",
    "\n",
    "n_jobs = cpu_count()\n",
    "with Timer(f\"parallel njobs={n_jobs}\"):\n",
    "    xxc=np.asarray(cyclic_xcorr_all_parallel(gc_set, n_jobs=n_jobs)).reshape((set_size, set_size, -1))\n",
    "xxc.shape"
   ]
  },
  {
   "cell_type": "code",
   "execution_count": 9,
   "metadata": {
    "tags": []
   },
   "outputs": [
    {
     "name": "stdout",
     "output_type": "stream",
     "text": [
      "{-1: 16383, -257.0: 8128.0, 255.0: 8256.0}\n"
     ]
    }
   ],
   "source": [
    "print(Rxy(n))\n",
    "xcc = xxc.round().astype(np.int32)"
   ]
  },
  {
   "cell_type": "code",
   "execution_count": 10,
   "metadata": {
    "tags": []
   },
   "outputs": [
    {
     "data": {
      "text/plain": [
       "(array([-257,   -1,  255], dtype=int32), array([ 8132, 16374,  8261]))"
      ]
     },
     "execution_count": 10,
     "metadata": {},
     "output_type": "execute_result"
    }
   ],
   "source": [
    "np.unique(xcc[2][3], return_counts=True)"
   ]
  },
  {
   "cell_type": "code",
   "execution_count": 11,
   "metadata": {},
   "outputs": [
    {
     "name": "stdout",
     "output_type": "stream",
     "text": [
      "True\n"
     ]
    },
    {
     "data": {
      "text/plain": [
       "[<matplotlib.lines.Line2D at 0x7f8b00475bb0>]"
      ]
     },
     "execution_count": 11,
     "metadata": {},
     "output_type": "execute_result"
    },
    {
     "data": {
      "image/png": "[encoded data removed]",
      "text/plain": [
       "<Figure size 432x288 with 1 Axes>"
      ]
     },
     "metadata": {
      "needs_background": "light"
     },
     "output_type": "display_data"
    }
   ],
   "source": [
    "# what happens if we use a 'bad' q\n",
    "# surprizingly we get the same sequence!\n",
    "\n",
    "from matplotlib import pyplot as plt\n",
    "s1 = gc_set[0]\n",
    "s2 = decimate_sequence(s1, 2)\n",
    "print(np.all(s1==s2))\n",
    "plt.plot(cyclic_xcorr(s1, s2)[:100])"
   ]
  },
  {
   "cell_type": "markdown",
   "metadata": {},
   "source": [
    "### Does balance affect the autocorrelation?\n",
    "Looks like it does not... but we might want balanced sequences for other reasons."
   ]
  },
  {
   "cell_type": "code",
   "execution_count": 12,
   "metadata": {
    "tags": []
   },
   "outputs": [
    {
     "data": {
      "text/plain": [
       "[(True, array([   -1, 32767], dtype=int32)),\n",
       " (True, array([   -1, 32767], dtype=int32)),\n",
       " (False, array([ -257,    -1,   255, 32767], dtype=int32)),\n",
       " (True, array([ -257,    -1,   255, 32767], dtype=int32)),\n",
       " (False, array([ -257,    -1,   255, 32767], dtype=int32)),\n",
       " (True, array([ -257,    -1,   255, 32767], dtype=int32)),\n",
       " (False, array([ -257,    -1,   255, 32767], dtype=int32)),\n",
       " (True, array([ -257,    -1,   255, 32767], dtype=int32)),\n",
       " (False, array([ -257,    -1,   255, 32767], dtype=int32)),\n",
       " (True, array([ -257,    -1,   255, 32767], dtype=int32)),\n",
       " (False, array([ -257,    -1,   255, 32767], dtype=int32)),\n",
       " (True, array([ -257,    -1,   255, 32767], dtype=int32)),\n",
       " (False, array([ -257,    -1,   255, 32767], dtype=int32)),\n",
       " (True, array([ -257,    -1,   255, 32767], dtype=int32)),\n",
       " (False, array([ -257,    -1,   255, 32767], dtype=int32)),\n",
       " (True, array([ -257,    -1,   255, 32767], dtype=int32)),\n",
       " (True, array([ -257,    -1,   255, 32767], dtype=int32)),\n",
       " (False, array([ -257,    -1,   255, 32767], dtype=int32)),\n",
       " (False, array([ -257,    -1,   255, 32767], dtype=int32)),\n",
       " (True, array([ -257,    -1,   255, 32767], dtype=int32)),\n",
       " (True, array([ -257,    -1,   255, 32767], dtype=int32)),\n",
       " (False, array([ -257,    -1,   255, 32767], dtype=int32)),\n",
       " (False, array([ -257,    -1,   255, 32767], dtype=int32)),\n",
       " (True, array([ -257,    -1,   255, 32767], dtype=int32)),\n",
       " (True, array([ -257,    -1,   255, 32767], dtype=int32)),\n",
       " (False, array([ -257,    -1,   255, 32767], dtype=int32)),\n",
       " (False, array([ -257,    -1,   255, 32767], dtype=int32)),\n",
       " (True, array([ -257,    -1,   255, 32767], dtype=int32)),\n",
       " (True, array([ -257,    -1,   255, 32767], dtype=int32)),\n",
       " (False, array([ -257,    -1,   255, 32767], dtype=int32)),\n",
       " (False, array([ -257,    -1,   255, 32767], dtype=int32)),\n",
       " (False, array([ -257,    -1,   255, 32767], dtype=int32)),\n",
       " (True, array([ -257,    -1,   255, 32767], dtype=int32)),\n",
       " (False, array([ -257,    -1,   255, 32767], dtype=int32)),\n",
       " (False, array([ -257,    -1,   255, 32767], dtype=int32)),\n",
       " (False, array([ -257,    -1,   255, 32767], dtype=int32)),\n",
       " (True, array([ -257,    -1,   255, 32767], dtype=int32)),\n",
       " (False, array([ -257,    -1,   255, 32767], dtype=int32)),\n",
       " (False, array([ -257,    -1,   255, 32767], dtype=int32)),\n",
       " (False, array([ -257,    -1,   255, 32767], dtype=int32)),\n",
       " (True, array([ -257,    -1,   255, 32767], dtype=int32)),\n",
       " (False, array([ -257,    -1,   255, 32767], dtype=int32)),\n",
       " (False, array([ -257,    -1,   255, 32767], dtype=int32)),\n",
       " (False, array([ -257,    -1,   255, 32767], dtype=int32)),\n",
       " (True, array([ -257,    -1,   255, 32767], dtype=int32)),\n",
       " (False, array([ -257,    -1,   255, 32767], dtype=int32)),\n",
       " (True, array([ -257,    -1,   255, 32767], dtype=int32)),\n",
       " (True, array([ -257,    -1,   255, 32767], dtype=int32)),\n",
       " (False, array([ -257,    -1,   255, 32767], dtype=int32)),\n",
       " (True, array([ -257,    -1,   255, 32767], dtype=int32)),\n",
       " (False, array([ -257,    -1,   255, 32767], dtype=int32)),\n",
       " (False, array([ -257,    -1,   255, 32767], dtype=int32)),\n",
       " (True, array([ -257,    -1,   255, 32767], dtype=int32)),\n",
       " (False, array([ -257,    -1,   255, 32767], dtype=int32)),\n",
       " (True, array([ -257,    -1,   255, 32767], dtype=int32)),\n",
       " (True, array([ -257,    -1,   255, 32767], dtype=int32)),\n",
       " (False, array([ -257,    -1,   255, 32767], dtype=int32)),\n",
       " (True, array([ -257,    -1,   255, 32767], dtype=int32)),\n",
       " (False, array([ -257,    -1,   255, 32767], dtype=int32)),\n",
       " (False, array([ -257,    -1,   255, 32767], dtype=int32)),\n",
       " (True, array([ -257,    -1,   255, 32767], dtype=int32)),\n",
       " (True, array([ -257,    -1,   255, 32767], dtype=int32)),\n",
       " (True, array([ -257,    -1,   255, 32767], dtype=int32)),\n",
       " (False, array([ -257,    -1,   255, 32767], dtype=int32)),\n",
       " (False, array([ -257,    -1,   255, 32767], dtype=int32)),\n",
       " (True, array([ -257,    -1,   255, 32767], dtype=int32)),\n",
       " (False, array([ -257,    -1,   255, 32767], dtype=int32)),\n",
       " (False, array([ -257,    -1,   255, 32767], dtype=int32)),\n",
       " (True, array([ -257,    -1,   255, 32767], dtype=int32)),\n",
       " (True, array([ -257,    -1,   255, 32767], dtype=int32)),\n",
       " (True, array([ -257,    -1,   255, 32767], dtype=int32)),\n",
       " (False, array([ -257,    -1,   255, 32767], dtype=int32)),\n",
       " (False, array([ -257,    -1,   255, 32767], dtype=int32)),\n",
       " (True, array([ -257,    -1,   255, 32767], dtype=int32)),\n",
       " (False, array([ -257,    -1,   255, 32767], dtype=int32)),\n",
       " (False, array([ -257,    -1,   255, 32767], dtype=int32)),\n",
       " (False, array([ -257,    -1,   255, 32767], dtype=int32)),\n",
       " (False, array([ -257,    -1,   255, 32767], dtype=int32)),\n",
       " (True, array([ -257,    -1,   255, 32767], dtype=int32)),\n",
       " (False, array([ -257,    -1,   255, 32767], dtype=int32)),\n",
       " (False, array([ -257,    -1,   255, 32767], dtype=int32)),\n",
       " (True, array([ -257,    -1,   255, 32767], dtype=int32)),\n",
       " (False, array([ -257,    -1,   255, 32767], dtype=int32)),\n",
       " (False, array([ -257,    -1,   255, 32767], dtype=int32)),\n",
       " (False, array([ -257,    -1,   255, 32767], dtype=int32)),\n",
       " (False, array([ -257,    -1,   255, 32767], dtype=int32)),\n",
       " (True, array([ -257,    -1,   255, 32767], dtype=int32)),\n",
       " (False, array([ -257,    -1,   255, 32767], dtype=int32)),\n",
       " (False, array([ -257,    -1,   255, 32767], dtype=int32)),\n",
       " (True, array([ -257,    -1,   255, 32767], dtype=int32)),\n",
       " (False, array([ -257,    -1,   255, 32767], dtype=int32)),\n",
       " (True, array([ -257,    -1,   255, 32767], dtype=int32)),\n",
       " (False, array([ -257,    -1,   255, 32767], dtype=int32)),\n",
       " (False, array([ -257,    -1,   255, 32767], dtype=int32)),\n",
       " (True, array([ -257,    -1,   255, 32767], dtype=int32)),\n",
       " (False, array([ -257,    -1,   255, 32767], dtype=int32)),\n",
       " (False, array([ -257,    -1,   255, 32767], dtype=int32)),\n",
       " (True, array([ -257,    -1,   255, 32767], dtype=int32)),\n",
       " (False, array([ -257,    -1,   255, 32767], dtype=int32)),\n",
       " (True, array([ -257,    -1,   255, 32767], dtype=int32)),\n",
       " (False, array([ -257,    -1,   255, 32767], dtype=int32)),\n",
       " (False, array([ -257,    -1,   255, 32767], dtype=int32)),\n",
       " (True, array([ -257,    -1,   255, 32767], dtype=int32)),\n",
       " (False, array([ -257,    -1,   255, 32767], dtype=int32)),\n",
       " (False, array([ -257,    -1,   255, 32767], dtype=int32)),\n",
       " (True, array([ -257,    -1,   255, 32767], dtype=int32)),\n",
       " (True, array([ -257,    -1,   255, 32767], dtype=int32)),\n",
       " (False, array([ -257,    -1,   255, 32767], dtype=int32)),\n",
       " (True, array([ -257,    -1,   255, 32767], dtype=int32)),\n",
       " (True, array([ -257,    -1,   255, 32767], dtype=int32)),\n",
       " (False, array([ -257,    -1,   255, 32767], dtype=int32)),\n",
       " (True, array([ -257,    -1,   255, 32767], dtype=int32)),\n",
       " (True, array([ -257,    -1,   255, 32767], dtype=int32)),\n",
       " (False, array([ -257,    -1,   255, 32767], dtype=int32)),\n",
       " (False, array([ -257,    -1,   255, 32767], dtype=int32)),\n",
       " (True, array([ -257,    -1,   255, 32767], dtype=int32)),\n",
       " (False, array([ -257,    -1,   255, 32767], dtype=int32)),\n",
       " (False, array([ -257,    -1,   255, 32767], dtype=int32)),\n",
       " (True, array([ -257,    -1,   255, 32767], dtype=int32)),\n",
       " (False, array([ -257,    -1,   255, 32767], dtype=int32)),\n",
       " (False, array([ -257,    -1,   255, 32767], dtype=int32)),\n",
       " (False, array([ -257,    -1,   255, 32767], dtype=int32)),\n",
       " (True, array([ -257,    -1,   255, 32767], dtype=int32)),\n",
       " (True, array([ -257,    -1,   255, 32767], dtype=int32)),\n",
       " (True, array([ -257,    -1,   255, 32767], dtype=int32)),\n",
       " (False, array([ -257,    -1,   255, 32767], dtype=int32)),\n",
       " (False, array([ -257,    -1,   255, 32767], dtype=int32)),\n",
       " (False, array([ -257,    -1,   255, 32767], dtype=int32))]"
      ]
     },
     "execution_count": 12,
     "metadata": {},
     "output_type": "execute_result"
    }
   ],
   "source": [
    "# balance vs. autocorrelation  \n",
    "[(is_sequence_balanced(gc), np.unique(x[i]))\n",
    " for i, (gc, x) in enumerate(zip(gc_set, xcc))]"
   ]
  },
  {
   "cell_type": "code",
   "execution_count": 13,
   "metadata": {
    "tags": []
   },
   "outputs": [
    {
     "data": {
      "image/png": "[encoded data removed]",
      "text/plain": [
       "<Figure size 576x576 with 2 Axes>"
      ]
     },
     "metadata": {
      "needs_background": "light"
     },
     "output_type": "display_data"
    },
    {
     "data": {
      "image/png": "[encoded data removed]",
      "text/plain": [
       "<Figure size 576x576 with 2 Axes>"
      ]
     },
     "metadata": {
      "needs_background": "light"
     },
     "output_type": "display_data"
    }
   ],
   "source": [
    "import matplotlib.pyplot as plt\n",
    "import matplotlib.colors as colors\n",
    "\n",
    "if False:\n",
    "    plt.figure(1, figsize=(8, 8))\n",
    "    plt.matshow(max_xcorr_all, \n",
    "                fignum=1, \n",
    "                norm=colors.LogNorm(vmin=max_xcorr_all.min(), \n",
    "                                    vmax=max_xcorr_all.max()))\n",
    "    plt.title(\"Log-maximum cross-correlation of the family of Gold Codes\")\n",
    "    plt.colorbar()\n",
    "    plt.show()\n",
    "\n",
    "plt.figure(2, figsize=(8, 8))\n",
    "plt.matshow(max_xcorr_all, fignum=2)\n",
    "plt.colorbar()\n",
    "plt.show()\n",
    "\n",
    "plt.figure(3, figsize=(8, 8))\n",
    "plt.matshow(20*(np.log10(max_xcorr_all)-np.log10(2**n - 1)), fignum=3)\n",
    "plt.title(\"Normalized peak cross-correlation in dB\")\n",
    "plt.colorbar()\n",
    "plt.show()"
   ]
  },
  {
   "cell_type": "code",
   "execution_count": 14,
   "metadata": {},
   "outputs": [
    {
     "data": {
      "image/png": "[encoded data removed]",
      "text/plain": [
       "<Figure size 576x576 with 2 Axes>"
      ]
     },
     "metadata": {
      "needs_background": "light"
     },
     "output_type": "display_data"
    },
    {
     "data": {
      "image/png": "[encoded data removed]",
      "text/plain": [
       "<Figure size 576x576 with 2 Axes>"
      ]
     },
     "metadata": {
      "needs_background": "light"
     },
     "output_type": "display_data"
    }
   ],
   "source": [
    "# how many unique values in each cross-correlation?\n",
    "#  see McEliece, Theorem 11.15\n",
    "\n",
    "c = np.asarray([[len(np.unique(x)) for x in y] for y in xcorr_all])\n",
    "\n",
    "plt.figure(4, figsize=(8, 8))\n",
    "plt.matshow(c, fignum=4)\n",
    "plt.colorbar()\n",
    "plt.show()\n",
    "\n",
    "plt.figure(5, figsize=(8, 8))\n",
    "plt.matshow(c[:5, :5], fignum=5)\n",
    "plt.colorbar()\n",
    "plt.show()"
   ]
  },
  {
   "cell_type": "markdown",
   "metadata": {},
   "source": [
    "### What is the relationship between $R_{xy}$ and $R_{yx}$ ?\n",
    "\n",
    "They appear to be the reverse of each other."
   ]
  },
  {
   "cell_type": "code",
   "execution_count": 15,
   "metadata": {},
   "outputs": [
    {
     "name": "stdout",
     "output_type": "stream",
     "text": [
      "(128, 32767)\n",
      "True\n",
      "32766 32766\n",
      "True\n"
     ]
    },
    {
     "data": {
      "image/png": "[encoded data removed]",
      "text/plain": [
       "<Figure size 432x288 with 1 Axes>"
      ]
     },
     "metadata": {
      "needs_background": "light"
     },
     "output_type": "display_data"
    },
    {
     "data": {
      "image/png": "[encoded data removed]",
      "text/plain": [
       "<Figure size 432x288 with 1 Axes>"
      ]
     },
     "metadata": {
      "needs_background": "light"
     },
     "output_type": "display_data"
    },
    {
     "data": {
      "text/plain": [
       "(-257.0, -1, 255.0)"
      ]
     },
     "execution_count": 15,
     "metadata": {},
     "output_type": "execute_result"
    }
   ],
   "source": [
    "print(gc_set.shape)\n",
    "Rxy, Ryx = xcorr_all[10, 2, :], xcorr_all[2, 10, :]\n",
    "\n",
    "s_beg = slice(1, 100)\n",
    "s_end = slice(-1, -100, -1)\n",
    "\n",
    "print(len(Rxy[s_beg]) == len(Ryx[s_end]))\n",
    "\n",
    "print(len(Rxy[1:]), len(Ryx[-1:0:-1]))\n",
    "print(np.all(Rxy[1:] == Ryx[-1:0:-1]))\n",
    "\n",
    "\n",
    "plt.plot(np.arange(len(Rxy))[s_beg], Rxy[s_beg])\n",
    "plt.show()\n",
    "\n",
    "plt.plot(np.arange(len(Rxy))[s_end], Ryx[s_end])\n",
    "plt.show()\n",
    "\n",
    "theta(n)"
   ]
  },
  {
   "cell_type": "markdown",
   "metadata": {},
   "source": [
    "## M-sequences"
   ]
  },
  {
   "cell_type": "code",
   "execution_count": 17,
   "metadata": {},
   "outputs": [
    {
     "name": "stdout",
     "output_type": "stream",
     "text": [
      "The package \"flint\" is not available. Skipping sections that need it.\n"
     ]
    }
   ],
   "source": [
    "# this is somewhat faster than the implementation in sympy\n",
    "#   http://fredrikj.net/python-flint/nmod_poly.html\n",
    "#\n",
    "# install:\n",
    "# !conda install -c conda-forge python-flint\n",
    "# or\n",
    "# !pip install python-flint\n",
    "\n",
    "    \n",
    "try:\n",
    "    import flint\n",
    "except ImportError as ie:\n",
    "    flint = False\n",
    "    print('The package \"flint\" is not available. Skipping sections that need it.')\n",
    "\n",
    "from Timer import Timer\n",
    "\n",
    "def taps_flint(n, algorithm='Cantor-Zassenhaus'):\n",
    "    N = 2**n - 1\n",
    "    # construct the poly x**N + 1 (mod 2)\n",
    "    poly = flint.nmod_poly([1] + [0]*(N-1) + [1], mod=2)\n",
    "    print(f\"{poly}  GF{poly.modulus()}\")\n",
    "    factors = poly.factor(algorithm=algorithm)[1]\n",
    "    fn = (fac for fac, mult in factors if fac.degree() == n)\n",
    "    \n",
    "    taps = [[ex for ex, c in enumerate(fac) if c][-2:1:-1] for fac in fn]\n",
    "    \n",
    "    return taps"
   ]
  },
  {
   "cell_type": "code",
   "execution_count": 17,
   "metadata": {},
   "outputs": [],
   "source": [
    "if flint:\n",
    "    with Timer(\"Cantor-Zassenhaus\"):\n",
    "        fac = taps_flint(15, algorithm=\"Cantor-Zassenhaus\")\n",
    "        print(len(fac))"
   ]
  },
  {
   "cell_type": "code",
   "execution_count": 18,
   "metadata": {},
   "outputs": [],
   "source": [
    "if flint:\n",
    "    with Timer('Kaltofen-Shoup'):\n",
    "        fac2 = taps_flint(15, algorithm='Kaltofen-Shoup')\n",
    "        print(len(fac2))"
   ]
  },
  {
   "cell_type": "markdown",
   "metadata": {},
   "source": [
    "### Berlekamp-Massey to find LFSR taps from boolean sequences\n",
    "\n",
    "Note that Gold Codes are not M-sequences!! Berlekamp-Massey says you need a 2x shift register to make them!"
   ]
  },
  {
   "cell_type": "code",
   "execution_count": 19,
   "metadata": {
    "tags": []
   },
   "outputs": [
    {
     "data": {
      "text/plain": [
       "[[1, 0, 0, 0, 0, 0, 0, 0, 0, 0, 0, 0, 0, 0, 1],\n",
       " [1, 0, 0, 0, 0, 1, 0, 0, 0, 0, 1, 0, 0, 0, 1]]"
      ]
     },
     "execution_count": 19,
     "metadata": {},
     "output_type": "execute_result"
    }
   ],
   "source": [
    "from importlib import reload\n",
    "import lfsr\n",
    "reload(lfsr)\n",
    "\n",
    "# their first two members of the set are the preferred pair of m-sequences\n",
    "[lfsr.run_berlekamp_massey(s) for s in gc_set[:2]==1]"
   ]
  },
  {
   "cell_type": "markdown",
   "metadata": {},
   "source": [
    "### Feedback Taps for entire Gold Code Set\n",
    "Using Berlekamp-Massey, we discover that they all use the same taps, and therefore must vary by initial contents of the shift register!"
   ]
  },
  {
   "cell_type": "code",
   "execution_count": 20,
   "metadata": {
    "tags": []
   },
   "outputs": [
    {
     "name": "stderr",
     "output_type": "stream",
     "text": [
      "[Parallel(n_jobs=6)]: Using backend LokyBackend with 6 concurrent workers.\n",
      "[Parallel(n_jobs=6)]: Done   6 tasks      | elapsed:    2.6s\n",
      "[Parallel(n_jobs=6)]: Done  60 tasks      | elapsed:   23.3s\n",
      "[Parallel(n_jobs=6)]: Done 126 out of 126 | elapsed:   51.6s finished\n"
     ]
    },
    {
     "data": {
      "text/plain": [
       "(126, 30)"
      ]
     },
     "execution_count": 20,
     "metadata": {},
     "output_type": "execute_result"
    }
   ],
   "source": [
    "from joblib import delayed, Parallel, cpu_count\n",
    "gc_taps = np.asarray(Parallel(n_jobs=cpu_count()//2, verbose=5)\n",
    "                     (delayed(lfsr.run_berlekamp_massey)(s==1) \n",
    "                      for s in gc_set[2:]))  # exclude generator pair\n",
    "gc_taps.shape"
   ]
  },
  {
   "cell_type": "code",
   "execution_count": 21,
   "metadata": {},
   "outputs": [
    {
     "data": {
      "text/plain": [
       "True"
      ]
     },
     "execution_count": 21,
     "metadata": {},
     "output_type": "execute_result"
    }
   ],
   "source": [
    "# are the entries in each column of the array equal... yes!\n",
    "np.all(np.diff(gc_taps, axis=0)==0)"
   ]
  },
  {
   "cell_type": "markdown",
   "metadata": {},
   "source": [
    "### Feedback Taps of Decimated M-Sequences"
   ]
  },
  {
   "cell_type": "code",
   "execution_count": 16,
   "metadata": {},
   "outputs": [
    {
     "name": "stdout",
     "output_type": "stream",
     "text": [
      "1 [1, 0, 0, 0, 0, 0, 0, 0, 1, 0, 0, 1, 1]\n",
      "0 3 [1, 0, 0, 0, 1, 0, 0, 1, 1, 1, 1, 0, 0] [137 224]\n",
      "1 3 [1, 0, 0, 0, 1, 0, 0, 1, 1, 1, 1, 0, 0] [137 224]\n",
      "2 5 [1, 0, 0, 0, 1, 1, 1, 1, 1, 1, 1, 0, 0] [143 224]\n",
      "3 5 [1, 0, 0, 0, 1, 1, 1, 1, 1, 1, 1, 0, 0] [143 224]\n",
      "4 7 [1, 0, 0, 1, 1, 1, 1, 1, 0, 1, 1, 1, 1] [159 120]\n",
      "5 9 [1, 0, 0, 1, 0, 0, 0, 0, 0, 0, 1, 0, 1] [144  40]\n",
      "6 13 [1, 1, 0, 1, 0, 1, 1, 1, 1, 0, 0, 0, 1] [215 136]\n",
      "7 15 [1, 0, 1, 0, 0, 1, 0, 1, 0, 0, 1, 0, 1] [165  40]\n",
      "8 17 [1, 0, 0, 0, 0, 1, 1, 1, 0, 0, 0, 1, 1] [135  24]\n",
      "9 31 [1, 0, 0, 0, 1, 1, 1, 0, 0, 0, 0, 1, 1] [142  24]\n",
      "10 33 [1, 1, 0, 1, 0, 0, 0, 1, 1, 1, 1, 0, 1] [209 232]\n",
      "11 33 [1, 1, 0, 1, 0, 0, 0, 1, 1, 1, 1, 0, 1] [209 232]\n",
      "12 41 [1, 0, 1, 1, 1, 0, 0, 0, 0, 1, 0, 0, 1] [184  72]\n",
      "13 57 [1, 0, 1, 0, 1, 1, 1, 1, 0, 1, 1, 0, 0] [175  96]\n",
      "14 59 [1, 0, 0, 0, 0, 1, 0, 1, 1, 0, 1, 0, 1] [133 168]\n",
      "15 65 [1, 1, 1, 1, 1, 0, 1, 1, 1, 0, 0, 0, 0] [251 128]\n",
      "16 67 [1, 1, 0, 0, 1, 0, 1, 0, 0, 1, 1, 0, 0] [202  96]\n",
      "17 83 [1, 1, 0, 0, 0, 1, 1, 1, 1, 1, 1, 1, 1] [199 248]\n",
      "18 93 [1, 0, 1, 1, 1, 1, 0, 0, 0, 0, 0, 1, 0] [188  16]\n",
      "19 109 [1, 0, 0, 1, 1, 1, 0, 1, 0, 0, 1, 1, 1] [157  56]\n",
      "20 119 [1, 1, 1, 1, 0, 1, 0, 0, 0, 1, 1, 0, 1] [244 104]\n",
      "21 129 [1, 1, 1, 1, 1, 0, 1, 1, 1, 0, 0, 0, 0] [251 128]\n",
      "22 145 [1, 1, 1, 1, 0, 1, 1, 0, 1, 1, 0, 0, 0] [246 192]\n",
      "23 171 [1, 0, 1, 0, 0, 1, 1, 1, 0, 0, 0, 0, 1] [167   8]\n",
      "24 197 [1, 1, 0, 0, 1, 1, 1, 1, 0, 1, 0, 1, 0] [207  80]\n",
      "25 223 [1, 1, 1, 0, 1, 1, 0, 0, 1, 0, 1, 0, 1] [236 168]\n",
      "26 249 [1, 1, 0, 1, 0, 1, 0, 0, 1, 1, 0, 1, 1] [212 216]\n",
      "27 257 [1, 1, 0, 1, 0, 0, 0, 1, 1, 1, 1, 0, 1] [209 232]\n",
      "28 283 [1, 1, 0, 1, 1, 1, 0, 1, 0, 0, 0, 1, 1] [221  24]\n",
      "29 309 [1, 1, 1, 0, 1, 0, 0, 0, 0, 0, 0, 1, 1] [232  24]\n",
      "30 335 [1, 0, 1, 1, 1, 0, 0, 1, 0, 0, 1, 0, 0] [185  32]\n",
      "31 361 [1, 0, 1, 1, 0, 1, 1, 0, 1, 0, 0, 1, 1] [182 152]\n",
      "32 387 [1, 1, 0, 1, 0, 1, 0, 1, 0, 1, 1, 1, 0] [213 112]\n",
      "33 413 [1, 1, 1, 1, 1, 1, 1, 0, 1, 0, 1, 0, 1] [254 168]\n",
      "34 439 [1, 1, 0, 0, 1, 0, 1, 0, 1, 1, 1, 0, 1] [202 232]\n",
      "35 465 [1, 0, 0, 0, 1, 1, 1, 0, 0, 0, 1, 1, 0] [142  48]\n",
      "36 491 [1, 0, 0, 1, 0, 0, 1, 0, 0, 1, 1, 1, 0] [146 112]\n",
      "37 513 [1, 0, 0, 0, 0, 1, 1, 1, 0, 0, 0, 1, 1] [135  24]\n",
      "38 807 [1, 1, 0, 0, 1, 0, 1, 0, 0, 0, 0, 0, 0] [202   0]\n",
      "39 833 [1, 1, 1, 0, 1, 1, 1, 0, 1, 1, 0, 1, 1] [238 216]\n",
      "40 859 [1, 1, 1, 0, 1, 0, 0, 0, 1, 1, 1, 1, 0] [232 240]\n",
      "41 885 [1, 1, 1, 0, 1, 1, 1, 1, 1, 1, 1, 1, 1] [239 248]\n",
      "42 911 [1, 1, 0, 1, 0, 1, 1, 1, 1, 0, 1, 1, 1] [215 184]\n",
      "43 937 [1, 0, 1, 1, 0, 1, 0, 0, 1, 1, 0, 1, 1] [180 216]\n",
      "44 963 [1, 0, 1, 0, 1, 0, 0, 1, 1, 0, 1, 0, 0] [169 160]\n",
      "45 989 [1, 0, 1, 1, 0, 0, 1, 1, 0, 1, 0, 1, 1] [179  88]\n",
      "46 1015 [1, 0, 0, 1, 0, 0, 0, 1, 1, 1, 1, 1, 1] [145 248]\n",
      "47 1025 [1, 0, 0, 1, 0, 0, 0, 0, 0, 0, 1, 0, 1] [144  40]\n",
      "48 1817 [1, 1, 0, 0, 1, 0, 1, 0, 0, 0, 0, 0, 0] [202   0]\n",
      "49 1843 [1, 0, 1, 1, 1, 1, 1, 1, 1, 1, 0, 1, 0] [191 208]\n",
      "50 1869 [1, 0, 1, 1, 0, 1, 1, 0, 1, 1, 0, 1, 0] [182 208]\n",
      "51 1895 [1, 0, 0, 1, 0, 1, 0, 1, 1, 1, 0, 0, 0] [149 192]\n",
      "52 1921 [1, 1, 0, 0, 0, 1, 1, 1, 0, 1, 1, 0, 1] [199 104]\n",
      "53 1947 [1, 0, 0, 1, 1, 0, 0, 0, 0, 1, 0, 0, 0] [152  64]\n",
      "54 1973 [1, 0, 1, 0, 1, 0, 0, 0, 0, 1, 1, 1, 0] [168 112]\n",
      "55 1999 [1, 0, 1, 1, 1, 0, 1, 0, 1, 0, 1, 0, 1] [186 168]\n",
      "56 2025 [1, 0, 1, 1, 1, 0, 1, 0, 0, 1, 1, 1, 0] [186 112]\n",
      "57 2049 [1, 0, 0, 0, 1, 1, 1, 1, 1, 1, 1, 0, 0] [143 224]\n",
      "58 3877 [1, 0, 1, 1, 1, 0, 1, 0, 1, 1, 0, 0, 1] [186 200]\n",
      "59 3903 [1, 0, 0, 1, 1, 0, 0, 1, 0, 1, 0, 0, 1] [153  72]\n",
      "60 3929 [1, 1, 1, 1, 0, 0, 1, 0, 1, 0, 1, 0, 1] [242 168]\n",
      "61 3955 [1, 1, 0, 0, 0, 1, 1, 1, 0, 0, 1, 0, 0] [199  32]\n",
      "62 3981 [1, 1, 0, 0, 1, 1, 1, 0, 0, 1, 1, 0, 1] [206 104]\n",
      "63 4007 [1, 0, 1, 1, 0, 0, 1, 1, 1, 0, 0, 0, 0] [179 128]\n",
      "64 4033 [1, 0, 1, 0, 1, 1, 1, 0, 0, 1, 1, 0, 1] [174 104]\n",
      "65 4059 [1, 1, 1, 0, 1, 0, 1, 1, 0, 1, 1, 1, 1] [235 120]\n",
      "66 4085 [1, 1, 0, 0, 1, 0, 0, 1, 0, 0, 1, 0, 1] [201  40]\n",
      "67 4097 [1, 0, 0, 0, 1, 0, 0, 1, 1, 1, 1, 0, 0] [137 224]\n"
     ]
    }
   ],
   "source": [
    "import lfsr\n",
    "import numpy as np\n",
    "\n",
    "n=13\n",
    "# the default sequence for length n\n",
    "s1 = sig.max_len_seq(n)[0]\n",
    "print(1, lfsr.run_berlekamp_massey(s1==1))\n",
    "    \n",
    "for i, q in enumerate(sorted(generate_good_qs(n))):\n",
    "    s2 = decimate_sequence(s1, q)\n",
    "    taps = lfsr.run_berlekamp_massey(s2==1)\n",
    "    hex = np.packbits(np.array(taps, dtype=np.uint8))\n",
    "    \n",
    "    print(i, q, taps, hex)"
   ]
  },
  {
   "cell_type": "code",
   "execution_count": 49,
   "metadata": {},
   "outputs": [
    {
     "name": "stdout",
     "output_type": "stream",
     "text": [
      "[1, 0, 1, 1, 1]\n",
      "[0 2 3 4]\n",
      "[0 1 3 4]\n"
     ]
    }
   ],
   "source": [
    "b0, b1=sig.max_len_seq(5, taps=[3])[0], sig.max_len_seq(5)[0]\n",
    "\n",
    "lfsr.run_berlekamp_massey(b1)\n",
    "\n",
    "b2 = sig.max_len_seq(5, taps=[4, 3, 2])[0]\n",
    "b2\n",
    "bm_taps2=np.asarray(lfsr.run_berlekamp_massey(b2))\n",
    "print(mb_taps2)\n",
    "print(np.arange(5)[bm_taps2==1])\n",
    "\n",
    "b3 = sig.max_len_seq(5, taps=[4, 3, 1])[0]\n",
    "b3\n",
    "bm_taps3=np.asarray(lfsr.run_berlekamp_massey(b3))\n",
    "bm_taps3\n",
    "print(np.arange(5)[bm_taps3==1])"
   ]
  },
  {
   "cell_type": "markdown",
   "metadata": {},
   "source": [
    "### Old experiments"
   ]
  },
  {
   "cell_type": "code",
   "execution_count": 22,
   "metadata": {},
   "outputs": [
    {
     "name": "stdout",
     "output_type": "stream",
     "text": [
      "q = 3\n",
      "-257.0 -1 255.0\n"
     ]
    }
   ],
   "source": [
    "import numpy as np\n",
    "from scipy import signal as sig\n",
    "\n",
    "n = 15\n",
    "seq1 = sig.max_len_seq(n)[0]\n",
    "\n",
    "q = next(generate_good_qs(n))\n",
    "print(f\"q = {q}\")\n",
    "\n",
    "seq2 = decimate_sequence(seq1, q)\n",
    "\n",
    "print(*theta(n))"
   ]
  },
  {
   "cell_type": "code",
   "execution_count": 23,
   "metadata": {},
   "outputs": [
    {
     "name": "stdout",
     "output_type": "stream",
     "text": [
      "[-1.0000e+00  3.2767e+04]\n"
     ]
    },
    {
     "data": {
      "image/png": "[encoded data removed]",
      "text/plain": [
       "<Figure size 432x288 with 1 Axes>"
      ]
     },
     "metadata": {
      "needs_background": "light"
     },
     "output_type": "display_data"
    },
    {
     "name": "stdout",
     "output_type": "stream",
     "text": [
      "[-257.   -1.  255.]\n"
     ]
    },
    {
     "data": {
      "image/png": "[encoded data removed]",
      "text/plain": [
       "<Figure size 432x288 with 1 Axes>"
      ]
     },
     "metadata": {
      "needs_background": "light"
     },
     "output_type": "display_data"
    },
    {
     "name": "stdout",
     "output_type": "stream",
     "text": [
      "[-257.   -1.  255.]\n"
     ]
    },
    {
     "data": {
      "image/png": "[encoded data removed]",
      "text/plain": [
       "<Figure size 432x288 with 1 Axes>"
      ]
     },
     "metadata": {
      "needs_background": "light"
     },
     "output_type": "display_data"
    },
    {
     "name": "stdout",
     "output_type": "stream",
     "text": [
      "[-1.0000e+00  3.2767e+04]\n"
     ]
    },
    {
     "data": {
      "image/png": "[encoded data removed]",
      "text/plain": [
       "<Figure size 432x288 with 1 Axes>"
      ]
     },
     "metadata": {
      "needs_background": "light"
     },
     "output_type": "display_data"
    }
   ],
   "source": [
    "import matplotlib.pyplot as plt\n",
    "\n",
    "plot_range=slice(None, 50)\n",
    "\n",
    "for bs1, bs2 in (itertools.product((seq1 * 2 - 1, seq2 * 2 - 1), repeat=2)):\n",
    "    xcorr = cyclic_xcorr(bs1, bs2)\n",
    "    print(np.unique(np.around(xcorr, 10)))\n",
    "    plt.plot(xcorr[plot_range])\n",
    "    plt.grid(True)\n",
    "    plt.show()"
   ]
  },
  {
   "cell_type": "markdown",
   "metadata": {},
   "source": [
    "## Kasami"
   ]
  },
  {
   "cell_type": "code",
   "execution_count": 24,
   "metadata": {},
   "outputs": [
    {
     "name": "stdout",
     "output_type": "stream",
     "text": [
      "q = 5\n"
     ]
    }
   ],
   "source": [
    "import numpy as np\n",
    "from scipy import signal as sig\n",
    "\n",
    "kn = 16\n",
    "kpp1 = sig.max_len_seq(kn)[0]\n",
    "\n",
    "kq = 5 # 2**j + 1, with j even, say 2\n",
    "print(f\"q = {kq}\")\n",
    "\n",
    "kpp2 = decimate_sequence(kpp1, kq)"
   ]
  },
  {
   "cell_type": "code",
   "execution_count": 25,
   "metadata": {},
   "outputs": [],
   "source": [
    "k_set_size = 10\n",
    "k_set = np.row_stack([np.logical_xor(kpp1, np.roll(kpp2, p))\n",
    "                      for p in range((kn+1), (kn+1)+k_set_size-2)]\n",
    "                          )"
   ]
  },
  {
   "cell_type": "code",
   "execution_count": 26,
   "metadata": {},
   "outputs": [
    {
     "name": "stdout",
     "output_type": "stream",
     "text": [
      "[-1.0250e+03 -2.5700e+02 -1.0000e+00  2.5500e+02  1.0230e+03  6.5535e+04]\n"
     ]
    },
    {
     "data": {
      "image/png": "[encoded data removed]",
      "text/plain": [
       "<Figure size 432x288 with 1 Axes>"
      ]
     },
     "metadata": {
      "needs_background": "light"
     },
     "output_type": "display_data"
    },
    {
     "name": "stdout",
     "output_type": "stream",
     "text": [
      "[-1.025e+03 -2.570e+02 -1.000e+00  2.550e+02  1.023e+03]\n"
     ]
    },
    {
     "data": {
      "image/png": "[encoded data removed]",
      "text/plain": [
       "<Figure size 432x288 with 1 Axes>"
      ]
     },
     "metadata": {
      "needs_background": "light"
     },
     "output_type": "display_data"
    },
    {
     "name": "stdout",
     "output_type": "stream",
     "text": [
      "[-1.025e+03 -2.570e+02 -1.000e+00  2.550e+02  1.023e+03]\n"
     ]
    },
    {
     "data": {
      "image/png": "[encoded data removed]",
      "text/plain": [
       "<Figure size 432x288 with 1 Axes>"
      ]
     },
     "metadata": {
      "needs_background": "light"
     },
     "output_type": "display_data"
    },
    {
     "name": "stdout",
     "output_type": "stream",
     "text": [
      "[-1.025e+03 -2.570e+02 -1.000e+00  2.550e+02  1.023e+03]\n"
     ]
    },
    {
     "data": {
      "image/png": "[encoded data removed]",
      "text/plain": [
       "<Figure size 432x288 with 1 Axes>"
      ]
     },
     "metadata": {
      "needs_background": "light"
     },
     "output_type": "display_data"
    },
    {
     "name": "stdout",
     "output_type": "stream",
     "text": [
      "[-1.0250e+03 -2.5700e+02 -1.0000e+00  2.5500e+02  1.0230e+03  6.5535e+04]\n"
     ]
    },
    {
     "data": {
      "image/png": "[encoded data removed]",
      "text/plain": [
       "<Figure size 432x288 with 1 Axes>"
      ]
     },
     "metadata": {
      "needs_background": "light"
     },
     "output_type": "display_data"
    },
    {
     "name": "stdout",
     "output_type": "stream",
     "text": [
      "[-1.025e+03 -2.570e+02 -1.000e+00  2.550e+02  1.023e+03]\n"
     ]
    },
    {
     "data": {
      "image/png": "[encoded data removed]",
      "text/plain": [
       "<Figure size 432x288 with 1 Axes>"
      ]
     },
     "metadata": {
      "needs_background": "light"
     },
     "output_type": "display_data"
    },
    {
     "name": "stdout",
     "output_type": "stream",
     "text": [
      "[-1.025e+03 -2.570e+02 -1.000e+00  2.550e+02  1.023e+03]\n"
     ]
    },
    {
     "data": {
      "image/png": "[encoded data removed]",
      "text/plain": [
       "<Figure size 432x288 with 1 Axes>"
      ]
     },
     "metadata": {
      "needs_background": "light"
     },
     "output_type": "display_data"
    },
    {
     "name": "stdout",
     "output_type": "stream",
     "text": [
      "[-1.025e+03 -2.570e+02 -1.000e+00  2.550e+02  1.023e+03]\n"
     ]
    },
    {
     "data": {
      "image/png": "[encoded data removed]",
      "text/plain": [
       "<Figure size 432x288 with 1 Axes>"
      ]
     },
     "metadata": {
      "needs_background": "light"
     },
     "output_type": "display_data"
    },
    {
     "name": "stdout",
     "output_type": "stream",
     "text": [
      "[-1.0250e+03 -2.5700e+02 -1.0000e+00  2.5500e+02  1.0230e+03  6.5535e+04]\n"
     ]
    },
    {
     "data": {
      "image/png": "[encoded data removed]",
      "text/plain": [
       "<Figure size 432x288 with 1 Axes>"
      ]
     },
     "metadata": {
      "needs_background": "light"
     },
     "output_type": "display_data"
    }
   ],
   "source": [
    "import matplotlib.pyplot as plt\n",
    "\n",
    "plot_range=slice(None, 2000)\n",
    "\n",
    "for bs1, bs2 in (itertools.product((k_set[1] * 2 - 1, \n",
    "                                    k_set[2] * 2 - 1,\n",
    "                                    k_set[3] * 2 - 1), repeat=2)):\n",
    "    xcorr = cyclic_xcorr(bs1, bs2)\n",
    "    print(np.unique(np.around(xcorr, 10)))\n",
    "    plt.plot(xcorr[plot_range])\n",
    "    plt.grid(True)\n",
    "    plt.show()"
   ]
  },
  {
   "cell_type": "code",
   "execution_count": null,
   "metadata": {},
   "outputs": [],
   "source": []
  }
 ],
 "metadata": {
  "kernelspec": {
   "display_name": "Python 3 (ipykernel)",
   "language": "python",
   "name": "python3"
  },
  "language_info": {
   "codemirror_mode": {
    "name": "ipython",
    "version": 3
   },
   "file_extension": ".py",
   "mimetype": "text/x-python",
   "name": "python",
   "nbconvert_exporter": "python",
   "pygments_lexer": "ipython3",
   "version": "3.11.0"
  }
 },
 "nbformat": 4,
 "nbformat_minor": 4
}
