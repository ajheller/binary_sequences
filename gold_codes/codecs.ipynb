{
 "cells": [
  {
   "cell_type": "code",
   "execution_count": 36,
   "metadata": {},
   "outputs": [],
   "source": [
    "import numpy as np \n",
    "import gold_codes as gc"
   ]
  },
  {
   "cell_type": "code",
   "execution_count": 41,
   "metadata": {},
   "outputs": [
    {
     "data": {
      "text/plain": [
       "<module 'gold_codes' from '/Users/heller/Documents/binary_sequences/gold_codes/gold_codes.py'>"
      ]
     },
     "execution_count": 41,
     "metadata": {},
     "output_type": "execute_result"
    }
   ],
   "source": [
    "import importlib\n",
    "importlib.reload(gc)"
   ]
  },
  {
   "cell_type": "code",
   "execution_count": 47,
   "metadata": {},
   "outputs": [
    {
     "data": {
      "text/plain": [
       "(64, 2047)"
      ]
     },
     "execution_count": 47,
     "metadata": {},
     "output_type": "execute_result"
    }
   ],
   "source": [
    "bits_per_symbol = 64\n",
    "\n",
    "m = gc.gold_codec(11, bits_per_symbol)\n",
    "m.shape"
   ]
  },
  {
   "cell_type": "code",
   "execution_count": 125,
   "metadata": {},
   "outputs": [
    {
     "name": "stdout",
     "output_type": "stream",
     "text": [
      "(16,) uint8\n"
     ]
    },
    {
     "data": {
      "text/plain": [
       "((2, 64),\n",
       " dtype('uint8'),\n",
       " array([[0, 1, 1, 0, 0, 0, 0, 1, 0, 1, 1, 0, 0, 0, 1, 0, 0, 1, 1, 0, 0, 0,\n",
       "         1, 1, 0, 1, 1, 0, 0, 1, 0, 0, 0, 1, 1, 0, 0, 1, 0, 1, 0, 1, 1, 0,\n",
       "         0, 1, 1, 0, 0, 1, 1, 0, 0, 1, 1, 1, 0, 1, 1, 0, 1, 0, 0, 0],\n",
       "        [0, 1, 1, 0, 1, 0, 0, 1, 0, 1, 1, 0, 1, 0, 1, 0, 0, 1, 1, 0, 1, 0,\n",
       "         1, 1, 0, 1, 1, 0, 1, 1, 0, 0, 0, 1, 1, 0, 1, 1, 0, 1, 0, 1, 1, 0,\n",
       "         1, 1, 1, 0, 0, 1, 1, 0, 1, 1, 1, 1, 0, 1, 1, 1, 0, 0, 0, 0]],\n",
       "       dtype=uint8))"
      ]
     },
     "execution_count": 125,
     "metadata": {},
     "output_type": "execute_result"
    }
   ],
   "source": [
    "msg = np.frombuffer(b\"abcdefghijklmnop\", dtype=np.uint8)\n",
    "print(msg.shape, msg.dtype)\n",
    "tx_bits = np.unpackbits(msg).reshape(-1, bits_per_symbol)\n",
    "tx_bits.shape, tx_bits.dtype, tx_bits"
   ]
  },
  {
   "cell_type": "code",
   "execution_count": 130,
   "metadata": {},
   "outputs": [
    {
     "data": {
      "text/plain": [
       "((2, 2047), (64, 2047), 0.12500668)"
      ]
     },
     "execution_count": 130,
     "metadata": {},
     "output_type": "execute_result"
    }
   ],
   "source": [
    "tx_bipolar = tx_bits.astype(np.float32) * 2 - 1\n",
    "x = tx_bipolar @ m/bits_per_symbol\n",
    "x.shape, m.shape, np.std(x)"
   ]
  },
  {
   "cell_type": "code",
   "execution_count": 137,
   "metadata": {},
   "outputs": [
    {
     "name": "stdout",
     "output_type": "stream",
     "text": [
      "[[-31.90625  32.09375  32.09375 -31.90625 -31.90625 -31.90625 -31.90625\n",
      "   32.09375 -31.90625  32.09375  32.09375 -31.90625 -31.90625 -31.90625\n",
      "   32.09375 -31.90625 -31.90625  32.09375  32.09375 -31.90625 -31.90625\n",
      "  -31.90625  32.09375  32.09375 -31.90625  32.09375  32.09375 -31.90625\n",
      "  -31.90625  32.09375 -31.90625 -31.90625 -31.90625  32.09375  32.09375\n",
      "  -31.90625 -31.90625  32.09375 -31.90625  32.09375 -31.90625  32.09375\n",
      "   32.09375 -31.90625 -31.90625  32.09375  32.09375 -31.90625 -31.90625\n",
      "   32.09375  32.09375 -31.90625 -31.90625  32.09375  32.09375  32.09375\n",
      "  -31.90625  32.09375  32.09375 -31.90625  32.09375 -31.90625 -31.90625\n",
      "  -31.90625]\n",
      " [-32.125    31.875    31.875   -32.125    31.875   -32.125   -32.125\n",
      "   31.875   -32.125    31.875    31.875   -32.125    31.875   -32.125\n",
      "   31.875   -32.125   -32.125    31.875    31.875   -32.125    31.875\n",
      "  -32.125    31.875    31.875   -32.125    31.875    31.875   -32.125\n",
      "   31.875    31.875   -32.125   -32.125   -32.125    31.875    31.875\n",
      "  -32.125    31.875    31.875   -32.125    31.875   -32.125    31.875\n",
      "   31.875   -32.125    31.875    31.875    31.875   -32.125   -32.125\n",
      "   31.875    31.875   -32.125    31.875    31.875    31.875    31.875\n",
      "  -32.125    31.875    31.875    31.875   -32.125   -32.125   -32.125\n",
      "  -32.125  ]]\n",
      "[[False  True  True False False False False  True False  True  True False\n",
      "  False False  True False False  True  True False False False  True  True\n",
      "  False  True  True False False  True False False False  True  True False\n",
      "  False  True False  True False  True  True False False  True  True False\n",
      "  False  True  True False False  True  True  True False  True  True False\n",
      "   True False False False]\n",
      " [False  True  True False  True False False  True False  True  True False\n",
      "   True False  True False False  True  True False  True False  True  True\n",
      "  False  True  True False  True  True False False False  True  True False\n",
      "   True  True False  True False  True  True False  True  True  True False\n",
      "  False  True  True False  True  True  True  True False  True  True  True\n",
      "  False False False False]]\n"
     ]
    },
    {
     "data": {
      "text/plain": [
       "array([[ True,  True,  True,  True,  True,  True,  True,  True,  True,\n",
       "         True,  True,  True,  True,  True,  True,  True,  True,  True,\n",
       "         True,  True,  True,  True,  True,  True,  True,  True,  True,\n",
       "         True,  True,  True,  True,  True,  True,  True,  True,  True,\n",
       "         True,  True,  True,  True,  True,  True,  True,  True,  True,\n",
       "         True,  True,  True,  True,  True,  True,  True,  True,  True,\n",
       "         True,  True,  True,  True,  True,  True,  True,  True,  True,\n",
       "         True],\n",
       "       [ True,  True,  True,  True,  True,  True,  True,  True,  True,\n",
       "         True,  True,  True,  True,  True,  True,  True,  True,  True,\n",
       "         True,  True,  True,  True,  True,  True,  True,  True,  True,\n",
       "         True,  True,  True,  True,  True,  True,  True,  True,  True,\n",
       "         True,  True,  True,  True,  True,  True,  True,  True,  True,\n",
       "         True,  True,  True,  True,  True,  True,  True,  True,  True,\n",
       "         True,  True,  True,  True,  True,  True,  True,  True,  True,\n",
       "         True]])"
      ]
     },
     "execution_count": 137,
     "metadata": {},
     "output_type": "execute_result"
    }
   ],
   "source": [
    "y = x + np.random.normal(scale=0, size=x.shape)\n",
    "\n",
    "rx_hat = y @ m.T\n",
    "print(rx_hat)\n",
    "\n",
    "rx_bits = rx_hat > 0\n",
    "\n",
    "print(rx_bits)\n",
    "\n",
    "\n",
    "rx_bits == tx_bits\n"
   ]
  },
  {
   "cell_type": "code",
   "execution_count": 145,
   "metadata": {},
   "outputs": [
    {
     "data": {
      "text/plain": [
       "array([ 97,  98,  99, 100, 101, 102, 103, 104, 105, 106, 107, 108, 109,\n",
       "       110, 111, 112], dtype=uint8)"
      ]
     },
     "execution_count": 145,
     "metadata": {},
     "output_type": "execute_result"
    }
   ],
   "source": [
    "np.packbits(rx_bits)"
   ]
  },
  {
   "cell_type": "code",
   "execution_count": null,
   "metadata": {},
   "outputs": [],
   "source": []
  }
 ],
 "metadata": {
  "kernelspec": {
   "display_name": "p311jax",
   "language": "python",
   "name": "python3"
  },
  "language_info": {
   "codemirror_mode": {
    "name": "ipython",
    "version": 3
   },
   "file_extension": ".py",
   "mimetype": "text/x-python",
   "name": "python",
   "nbconvert_exporter": "python",
   "pygments_lexer": "ipython3",
   "version": "3.11.0"
  }
 },
 "nbformat": 4,
 "nbformat_minor": 2
}
